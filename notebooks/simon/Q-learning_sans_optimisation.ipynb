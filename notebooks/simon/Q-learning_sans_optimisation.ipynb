{
 "cells": [
  {
   "cell_type": "code",
   "execution_count": 1,
   "id": "9d22642f",
   "metadata": {},
   "outputs": [],
   "source": [
    "import gym\n",
    "import wandb\n",
    "import numpy as np\n",
    "import random"
   ]
  },
  {
   "cell_type": "code",
   "execution_count": 2,
   "id": "6fe1b532",
   "metadata": {},
   "outputs": [
    {
     "name": "stderr",
     "output_type": "stream",
     "text": [
      "wandb: Currently logged in as: smonnier. Use `wandb login --relogin` to force relogin\n"
     ]
    },
    {
     "data": {
      "text/html": [
       "wandb version 0.15.5 is available!  To upgrade, please run:\n",
       " $ pip install wandb --upgrade"
      ],
      "text/plain": [
       "<IPython.core.display.HTML object>"
      ]
     },
     "metadata": {},
     "output_type": "display_data"
    },
    {
     "data": {
      "text/html": [
       "Tracking run with wandb version 0.13.11"
      ],
      "text/plain": [
       "<IPython.core.display.HTML object>"
      ]
     },
     "metadata": {},
     "output_type": "display_data"
    },
    {
     "data": {
      "text/html": [
       "Run data is saved locally in <code>C:\\Users\\smonn\\Desktop\\T-AIA-902-NAN_2\\notebooks\\simon\\wandb\\run-20230706_103022-qy4v1kkb</code>"
      ],
      "text/plain": [
       "<IPython.core.display.HTML object>"
      ]
     },
     "metadata": {},
     "output_type": "display_data"
    },
    {
     "data": {
      "text/html": [
       "Syncing run <strong><a href='https://wandb.ai/smonnier/Taxi-Q-learning-training/runs/qy4v1kkb' target=\"_blank\">leafy-lake-20</a></strong> to <a href='https://wandb.ai/smonnier/Taxi-Q-learning-training' target=\"_blank\">Weights & Biases</a> (<a href='https://wandb.me/run' target=\"_blank\">docs</a>)<br/>"
      ],
      "text/plain": [
       "<IPython.core.display.HTML object>"
      ]
     },
     "metadata": {},
     "output_type": "display_data"
    },
    {
     "data": {
      "text/html": [
       " View project at <a href='https://wandb.ai/smonnier/Taxi-Q-learning-training' target=\"_blank\">https://wandb.ai/smonnier/Taxi-Q-learning-training</a>"
      ],
      "text/plain": [
       "<IPython.core.display.HTML object>"
      ]
     },
     "metadata": {},
     "output_type": "display_data"
    },
    {
     "data": {
      "text/html": [
       " View run at <a href='https://wandb.ai/smonnier/Taxi-Q-learning-training/runs/qy4v1kkb' target=\"_blank\">https://wandb.ai/smonnier/Taxi-Q-learning-training/runs/qy4v1kkb</a>"
      ],
      "text/plain": [
       "<IPython.core.display.HTML object>"
      ]
     },
     "metadata": {},
     "output_type": "display_data"
    },
    {
     "data": {
      "text/plain": [
       "(26, {'prob': 1.0, 'action_mask': array([1, 0, 0, 1, 0, 0], dtype=int8)})"
      ]
     },
     "execution_count": 2,
     "metadata": {},
     "output_type": "execute_result"
    }
   ],
   "source": [
    "run = wandb.init(project=\"Taxi-Q-learning-training\", entity=\"smonnier\")\n",
    "env = gym.make(\"Taxi-v3\", render_mode=\"ansi\").env\n",
    "q_table = np.zeros([env.observation_space.n, env.action_space.n])\n",
    "env.reset()"
   ]
  },
  {
   "cell_type": "code",
   "execution_count": 3,
   "id": "e8d99f87",
   "metadata": {},
   "outputs": [],
   "source": [
    "DOWN = 0\n",
    "UP = 1\n",
    "RIGHT = 2\n",
    "LEFT = 3\n",
    "PICKUP = 4\n",
    "DROP = 5\n",
    "\n",
    "epochs = 0\n",
    "\n",
    "# Hyperparameters\n",
    "alpha = 0.1\n",
    "gamma = 0.6\n",
    "epsilon = 0.1"
   ]
  },
  {
   "cell_type": "code",
   "execution_count": 4,
   "id": "74c997a5",
   "metadata": {},
   "outputs": [
    {
     "data": {
      "text/html": [
       "Waiting for W&B process to finish... <strong style=\"color:green\">(success).</strong>"
      ],
      "text/plain": [
       "<IPython.core.display.HTML object>"
      ]
     },
     "metadata": {},
     "output_type": "display_data"
    },
    {
     "data": {
      "application/vnd.jupyter.widget-view+json": {
       "model_id": "f6ece6525c5c492197f4858d8dfed2aa",
       "version_major": 2,
       "version_minor": 0
      },
      "text/plain": [
       "VBox(children=(Label(value='0.001 MB of 0.001 MB uploaded (0.000 MB deduped)\\r'), FloatProgress(value=1.0, max…"
      ]
     },
     "metadata": {},
     "output_type": "display_data"
    },
    {
     "data": {
      "text/html": [
       "<style>\n",
       "    table.wandb td:nth-child(1) { padding: 0 10px; text-align: left ; width: auto;} td:nth-child(2) {text-align: left ; width: 100%}\n",
       "    .wandb-row { display: flex; flex-direction: row; flex-wrap: wrap; justify-content: flex-start; width: 100% }\n",
       "    .wandb-col { display: flex; flex-direction: column; flex-basis: 100%; flex: 1; padding: 10px; }\n",
       "    </style>\n",
       "<div class=\"wandb-row\"><div class=\"wandb-col\"><h3>Run history:</h3><br/><table class=\"wandb\"><tr><td>Drop</td><td>█▂▃▁▁▁▁▁▁▁▂▂▁▁▁▁▁▁▁▁▁▁▁▁▁▁▁▁▁▁▁▁▁▁▁▁▁▁▁▁</td></tr><tr><td>Pickup</td><td>█▃▃▂▂▁▁▂▁▁▁▂▁▁▁▁▁▁▂▁▁▁▂▁▁▁▁▁▁▂▁▁▁▁▁▁▁▁▁▁</td></tr><tr><td>down</td><td>█▃▄▂▂▁▂▃▁▂▁▂▁▁▁▁▁▁▁▁▁▁▁▁▁▁▁▁▁▂▁▁▁▁▁▁▁▁▁▁</td></tr><tr><td>duration</td><td>█▃▄▁▂▁▂▃▁▂▁▂▁▁▁▁▁▁▂▁▁▁▁▁▁▁▁▁▁▂▁▁▁▁▁▁▁▁▁▁</td></tr><tr><td>left</td><td>█▃▅▁▂▁▂▃▁▂▁▂▁▁▁▁▁▁▂▁▁▁▁▁▁▁▁▁▁▂▁▁▁▁▁▁▁▁▁▁</td></tr><tr><td>penalties</td><td>█▂▃▂▂▁▁▂▁▁▁▂▁▁▁▁▁▁▁▁▁▁▂▁▁▁▁▁▁▂▁▁▁▁▁▁▁▁▁▁</td></tr><tr><td>reward</td><td>▁▆▅█▇█▇▇█▇█▇██████████▇██████▇██████████</td></tr><tr><td>right</td><td>█▃▄▁▂▁▂▃▁▂▁▂▁▁▁▁▁▁▂▁▁▁▁▁▁▁▁▁▁▂▁▁▁▁▁▁▁▁▁▁</td></tr><tr><td>up</td><td>█▃▄▂▂▁▂▃▁▂▁▂▁▁▁▁▁▁▂▁▁▁▁▁▁▁▁▁▁▂▁▁▁▁▁▁▁▁▁▁</td></tr></table><br/></div><div class=\"wandb-col\"><h3>Run summary:</h3><br/><table class=\"wandb\"><tr><td>Drop</td><td>1</td></tr><tr><td>Pickup</td><td>2</td></tr><tr><td>down</td><td>2</td></tr><tr><td>duration</td><td>15</td></tr><tr><td>left</td><td>0</td></tr><tr><td>penalties</td><td>1</td></tr><tr><td>reward</td><td>-3</td></tr><tr><td>right</td><td>5</td></tr><tr><td>up</td><td>5</td></tr></table><br/></div></div>"
      ],
      "text/plain": [
       "<IPython.core.display.HTML object>"
      ]
     },
     "metadata": {},
     "output_type": "display_data"
    },
    {
     "data": {
      "text/html": [
       " View run <strong style=\"color:#cdcd00\">leafy-lake-20</strong> at: <a href='https://wandb.ai/smonnier/Taxi-Q-learning-training/runs/qy4v1kkb' target=\"_blank\">https://wandb.ai/smonnier/Taxi-Q-learning-training/runs/qy4v1kkb</a><br/>Synced 4 W&B file(s), 0 media file(s), 0 artifact file(s) and 0 other file(s)"
      ],
      "text/plain": [
       "<IPython.core.display.HTML object>"
      ]
     },
     "metadata": {},
     "output_type": "display_data"
    },
    {
     "data": {
      "text/html": [
       "Find logs at: <code>.\\wandb\\run-20230706_103022-qy4v1kkb\\logs</code>"
      ],
      "text/plain": [
       "<IPython.core.display.HTML object>"
      ]
     },
     "metadata": {},
     "output_type": "display_data"
    },
    {
     "name": "stdout",
     "output_type": "stream",
     "text": [
      "Training finished.\n",
      "\n"
     ]
    }
   ],
   "source": [
    "# Using Q-learning to train via reinforcement\n",
    "\n",
    "for i in range(1, 3000):\n",
    "    state = env.reset()[0]\n",
    "\n",
    "    epochs, penalties, reward, episode_reward = 0, 0, 0, 0\n",
    "    episode_action = [0, 0, 0, 0, 0, 0]\n",
    "    done = False\n",
    "\n",
    "    while not done:\n",
    "        if random.uniform(0, 1) < epsilon:\n",
    "            action = env.action_space.sample()  # Explore action space\n",
    "        else:\n",
    "            action = np.argmax(q_table[state])  # Exploit learned values\n",
    "\n",
    "        episode_action[action] += 1\n",
    "        next_state, reward, done, info, _ = env.step(action)\n",
    "        episode_reward += reward\n",
    "\n",
    "        old_value = q_table[state, action]\n",
    "        next_max = np.max(q_table[next_state])\n",
    "\n",
    "        new_value = (1 - alpha) * old_value + alpha * (reward + gamma * next_max)\n",
    "        q_table[state, action] = new_value\n",
    "\n",
    "        if reward == -10:\n",
    "            penalties += 1\n",
    "\n",
    "        state = next_state\n",
    "        epochs += 1\n",
    "\n",
    "    wandb.log({\"reward\": episode_reward, \"duration\": epochs,\n",
    "               \"penalties\": penalties,\n",
    "               \"down\": episode_action[DOWN],\n",
    "               \"up\": episode_action[UP],\n",
    "               \"right\": episode_action[RIGHT],\n",
    "               \"left\": episode_action[LEFT],\n",
    "               \"Pickup\": episode_action[PICKUP],\n",
    "               \"Drop\": episode_action[DROP]})\n",
    "    epochs += 1\n",
    "run.finish()\n",
    "print(\"Training finished.\\n\")\n"
   ]
  },
  {
   "cell_type": "code",
   "execution_count": 6,
   "id": "e04c7d49",
   "metadata": {},
   "outputs": [
    {
     "data": {
      "application/vnd.jupyter.widget-view+json": {
       "model_id": "837cd3f28840401dbe9ba0e702e054ec",
       "version_major": 2,
       "version_minor": 0
      },
      "text/plain": [
       "VBox(children=(Label(value='Waiting for wandb.init()...\\r'), FloatProgress(value=0.016933333333334608, max=1.0…"
      ]
     },
     "metadata": {},
     "output_type": "display_data"
    },
    {
     "data": {
      "text/html": [
       "wandb version 0.15.3 is available!  To upgrade, please run:\n",
       " $ pip install wandb --upgrade"
      ],
      "text/plain": [
       "<IPython.core.display.HTML object>"
      ]
     },
     "metadata": {},
     "output_type": "display_data"
    },
    {
     "data": {
      "text/html": [
       "Tracking run with wandb version 0.13.11"
      ],
      "text/plain": [
       "<IPython.core.display.HTML object>"
      ]
     },
     "metadata": {},
     "output_type": "display_data"
    },
    {
     "data": {
      "text/html": [
       "Run data is saved locally in <code>C:\\Users\\smonn\\Desktop\\T-AIA-902-NAN_2\\notebooks\\simon\\wandb\\run-20230526_112449-r4f0cz40</code>"
      ],
      "text/plain": [
       "<IPython.core.display.HTML object>"
      ]
     },
     "metadata": {},
     "output_type": "display_data"
    },
    {
     "data": {
      "text/html": [
       "Syncing run <strong><a href='https://wandb.ai/smonnier/Taxi-Q-learning-Evaluate/runs/r4f0cz40' target=\"_blank\">dry-monkey-15</a></strong> to <a href='https://wandb.ai/smonnier/Taxi-Q-learning-Evaluate' target=\"_blank\">Weights & Biases</a> (<a href='https://wandb.me/run' target=\"_blank\">docs</a>)<br/>"
      ],
      "text/plain": [
       "<IPython.core.display.HTML object>"
      ]
     },
     "metadata": {},
     "output_type": "display_data"
    },
    {
     "data": {
      "text/html": [
       " View project at <a href='https://wandb.ai/smonnier/Taxi-Q-learning-Evaluate' target=\"_blank\">https://wandb.ai/smonnier/Taxi-Q-learning-Evaluate</a>"
      ],
      "text/plain": [
       "<IPython.core.display.HTML object>"
      ]
     },
     "metadata": {},
     "output_type": "display_data"
    },
    {
     "data": {
      "text/html": [
       " View run at <a href='https://wandb.ai/smonnier/Taxi-Q-learning-Evaluate/runs/r4f0cz40' target=\"_blank\">https://wandb.ai/smonnier/Taxi-Q-learning-Evaluate/runs/r4f0cz40</a>"
      ],
      "text/plain": [
       "<IPython.core.display.HTML object>"
      ]
     },
     "metadata": {},
     "output_type": "display_data"
    },
    {
     "data": {
      "text/html": [
       "Waiting for W&B process to finish... <strong style=\"color:green\">(success).</strong>"
      ],
      "text/plain": [
       "<IPython.core.display.HTML object>"
      ]
     },
     "metadata": {},
     "output_type": "display_data"
    },
    {
     "data": {
      "text/html": [
       "<style>\n",
       "    table.wandb td:nth-child(1) { padding: 0 10px; text-align: left ; width: auto;} td:nth-child(2) {text-align: left ; width: 100%}\n",
       "    .wandb-row { display: flex; flex-direction: row; flex-wrap: wrap; justify-content: flex-start; width: 100% }\n",
       "    .wandb-col { display: flex; flex-direction: column; flex-basis: 100%; flex: 1; padding: 10px; }\n",
       "    </style>\n",
       "<div class=\"wandb-row\"><div class=\"wandb-col\"><h3>Run history:</h3><br/><table class=\"wandb\"><tr><td>Drop</td><td>▁▁▁▁▁▁▁▁▁▁▁▁▁▁▁▁▁▁▁▁</td></tr><tr><td>Pickup</td><td>▁▁▁▁▁▁▁▁▁▁▁▁▁▁▁▁▁▁▁▁</td></tr><tr><td>down</td><td>▇▅▇▇▇▁▅▄▇▄▇▄▇▅▄█▇▄▇▇</td></tr><tr><td>duration</td><td>▂▃▅▅▄▁▃▇▄▆▆▆█▇▅▇▆▄▂▇</td></tr><tr><td>left</td><td>▁▅█▃█▃▁█▃▆▆▅█▆▆█▆▁▃█</td></tr><tr><td>penalties</td><td>▁▁▁▁▁▁▁▁▁▁▁▁▁▁▁▁▁▁▁▁</td></tr><tr><td>reward</td><td>▇▆▅▅▅█▆▂▅▃▃▃▁▂▄▂▃▅▇▂</td></tr><tr><td>right</td><td>▆▁▃▆▁▃▅█▆█▅███▅█▅█▁█</td></tr><tr><td>up</td><td>▁▆▃▅▃▆▆▆▃▆▆█▆▆█▃▆▆▅▅</td></tr></table><br/></div><div class=\"wandb-col\"><h3>Run summary:</h3><br/><table class=\"wandb\"><tr><td>Drop</td><td>1</td></tr><tr><td>Pickup</td><td>1</td></tr><tr><td>down</td><td>4</td></tr><tr><td>duration</td><td>17</td></tr><tr><td>left</td><td>4</td></tr><tr><td>penalties</td><td>0</td></tr><tr><td>reward</td><td>4</td></tr><tr><td>right</td><td>4</td></tr><tr><td>up</td><td>3</td></tr></table><br/></div></div>"
      ],
      "text/plain": [
       "<IPython.core.display.HTML object>"
      ]
     },
     "metadata": {},
     "output_type": "display_data"
    },
    {
     "data": {
      "text/html": [
       " View run <strong style=\"color:#cdcd00\">dry-monkey-15</strong> at: <a href='https://wandb.ai/smonnier/Taxi-Q-learning-Evaluate/runs/r4f0cz40' target=\"_blank\">https://wandb.ai/smonnier/Taxi-Q-learning-Evaluate/runs/r4f0cz40</a><br/>Synced 4 W&B file(s), 0 media file(s), 0 artifact file(s) and 0 other file(s)"
      ],
      "text/plain": [
       "<IPython.core.display.HTML object>"
      ]
     },
     "metadata": {},
     "output_type": "display_data"
    },
    {
     "data": {
      "text/html": [
       "Find logs at: <code>.\\wandb\\run-20230526_112449-r4f0cz40\\logs</code>"
      ],
      "text/plain": [
       "<IPython.core.display.HTML object>"
      ]
     },
     "metadata": {},
     "output_type": "display_data"
    },
    {
     "name": "stdout",
     "output_type": "stream",
     "text": [
      "Results after 20 episodes:\n",
      "Average timesteps per episode: 13.5\n",
      "Average penalties per episode: 0.0\n"
     ]
    }
   ],
   "source": [
    "# Evaluate agent's performance after Q-learning\n",
    "run = wandb.init(project=\"Taxi-Q-learning-Evaluate\", entity=\"smonnier\")\n",
    "total_epochs, total_penalties = 0, 0\n",
    "episodes = 20\n",
    "\n",
    "for _ in range(episodes):\n",
    "    env = gym.make(\"Taxi-v3\", render_mode=\"human\").env\n",
    "    state = env.reset()[0]\n",
    "\n",
    "    epochs, penalties, reward, episode_reward = 0, 0, 0, 0\n",
    "    episode_action = [0, 0, 0, 0, 0, 0]\n",
    "\n",
    "    done = False\n",
    "\n",
    "    while not done:\n",
    "        action = np.argmax(q_table[state])\n",
    "        episode_action[action] += 1\n",
    "        state, reward, done, info, _ = env.step(action)\n",
    "        episode_reward += reward\n",
    "\n",
    "        if reward == -10:\n",
    "            penalties += 1\n",
    "\n",
    "        epochs += 1\n",
    "        env.render()\n",
    "    env.close()\n",
    "    wandb.log({\"reward\": episode_reward, \"duration\": epochs,\n",
    "               \"penalties\": penalties,\n",
    "               \"down\": episode_action[DOWN],\n",
    "               \"up\": episode_action[UP],\n",
    "               \"right\": episode_action[RIGHT],\n",
    "               \"left\": episode_action[LEFT],\n",
    "               \"Pickup\": episode_action[PICKUP],\n",
    "               \"Drop\": episode_action[DROP]})\n",
    "\n",
    "    total_penalties += penalties\n",
    "    total_epochs += epochs\n",
    "run.finish()\n",
    "print(f\"Results after {episodes} episodes:\")\n",
    "print(f\"Average timesteps per episode: {total_epochs / episodes}\")\n",
    "print(f\"Average penalties per episode: {total_penalties / episodes}\")\n"
   ]
  },
  {
   "cell_type": "code",
   "execution_count": null,
   "id": "8aef6585",
   "metadata": {},
   "outputs": [],
   "source": []
  }
 ],
 "metadata": {
  "kernelspec": {
   "display_name": "RL (Gym)",
   "language": "python",
   "name": "rl"
  },
  "language_info": {
   "codemirror_mode": {
    "name": "ipython",
    "version": 3
   },
   "file_extension": ".py",
   "mimetype": "text/x-python",
   "name": "python",
   "nbconvert_exporter": "python",
   "pygments_lexer": "ipython3",
   "version": "3.9.7"
  }
 },
 "nbformat": 4,
 "nbformat_minor": 5
}
